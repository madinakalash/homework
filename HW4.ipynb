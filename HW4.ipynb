{
 "cells": [
  {
   "cell_type": "markdown",
   "metadata": {
    "collapsed": true
   },
   "source": [
    "# Домашняя работа 4 (оцениваемая)\n",
    "\n",
    "Очистите текст от пунктуации, приведите его к нижнему регистру, лемматизируйте и запишите в новый файл. Проверьте, выполняется ли здесь закон Ципфа."
   ]
  },
  {
   "cell_type": "code",
   "execution_count": null,
   "metadata": {},
   "outputs": [],
   "source": [
    "import nltk\n",
    "from nltk.corpus import stopwords\n",
    "from collections import Counter\n",
    "import matplotlib.pyplot as plt\n",
    "\n",
    "sw = stopwords.words('english')\n",
    "\n",
    "def lemmatirize(infile, outfile):\n",
    "    inFile = open(infile, 'r')\n",
    "    outFile = open(outfile, 'a')\n",
    "    a = inFile.read() #читаем файл\n",
    "    a = a.lower()\n",
    "    a = nltk.word_tokenize(a)\n",
    "    wnl = nltk.WordNetLemmatizer()\n",
    "    for i in a:\n",
    "        i = i.strip(\"!\\\"#$%&'()*+,-./:;<=>?@[\\]^_`{|}~„“«»†*—/\\-\")\n",
    "        i = wnl.lemmatize(i)\n",
    "        outFile.write(' '.join(a))\n",
    "    inFile.close()\n",
    "    outFile.close()\n",
    "    return(a)\n",
    "\n",
    "a = lemmatirize('Harry_Potter_and_the_Sorcerers_Stone.txt','HP_lemmas.txt')\n",
    "c = Counter(a)\n",
    "dictval = list(c.values())\n",
    "ordinate = []\n",
    "s = 0\n",
    "for i in dictval:\n",
    "    s = s+i\n",
    "for i in dictval:\n",
    "    ordinate.append(i/s)\n",
    "    ordinate = sorted(ordinate, reverse = True)\n",
    "abscissa = [i+1 for i in range(len(ordinate))]\n",
    "plt.plot(abscissa, ordinate)\n",
    "plt.title('Zipf\\'s law')\n",
    "plt.xlabel('Word\\'s rang')\n",
    "plt.ylabel('Frequency')\n",
    "plt.show()\n",
    "\n"
   ]
  },
  {
   "cell_type": "markdown",
   "metadata": {},
   "source": [
    "Очистите текст от стоп-слов. Постройте barplot для 30 самых частотных слов."
   ]
  },
  {
   "cell_type": "code",
   "execution_count": null,
   "metadata": {},
   "outputs": [],
   "source": [
    "outLemmas = []\n",
    "for i in a:\n",
    "    if i not in sw:\n",
    "        outLemmas.append(i)\n",
    "c = Counter(outLemmas)\n",
    "abscissa =[]\n",
    "ordinate = []\n",
    "ticks = []\n",
    "for i in c.most_common(30):\n",
    "    j, k = i\n",
    "    ticks.append(j)\n",
    "    ordinate.append(k)\n",
    "abscissa = [i+1 for i in range(len(ordinate))]\n",
    "plt.plot(abscissa, ordinate)\n",
    "plt.title('Top 30')\n",
    "plt.xlabel('Words')\n",
    "plt.ylabel('Frequency')\n",
    "plt.xticks(abscissa, ticks, rotation = 90)\n",
    "plt.show()"
   ]
  }
 ],
 "metadata": {
  "kernelspec": {
   "display_name": "Python 3",
   "language": "python",
   "name": "python3"
  },
  "language_info": {
   "codemirror_mode": {
    "name": "ipython",
    "version": 3
   },
   "file_extension": ".py",
   "mimetype": "text/x-python",
   "name": "python",
   "nbconvert_exporter": "python",
   "pygments_lexer": "ipython3",
   "version": "3.7.0"
  }
 },
 "nbformat": 4,
 "nbformat_minor": 1
}
